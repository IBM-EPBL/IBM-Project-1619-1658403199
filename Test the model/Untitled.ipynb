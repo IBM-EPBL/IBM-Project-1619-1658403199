{
 "cells": [
  {
   "cell_type": "code",
   "execution_count": 11,
   "id": "4a7e588e",
   "metadata": {},
   "outputs": [],
   "source": [
    "from keras.preprocessing.image import ImageDataGenerator\n",
    "train_datagen=ImageDataGenerator(rescale=1./255,shear_range=0.2,zoom_range=0.2,horizontal_flip=True)\n",
    "test_datagen=ImageDataGenerator(rescale=1./255)"
   ]
  },
  {
   "cell_type": "code",
   "execution_count": 23,
   "id": "1a76e3fa",
   "metadata": {
    "scrolled": true
   },
   "outputs": [
    {
     "name": "stdout",
     "output_type": "stream",
     "text": [
      "Found 15750 images belonging to 9 classes.\n"
     ]
    }
   ],
   "source": [
    "x_train=train_datagen.flow_from_directory('Dataset/training_set',target_size=(64,64),batch_size=300,class_mode='categorical',color_mode=\"grayscale\")\n"
   ]
  },
  {
   "cell_type": "code",
   "execution_count": 24,
   "id": "e9eb2cb0",
   "metadata": {},
   "outputs": [
    {
     "name": "stdout",
     "output_type": "stream",
     "text": [
      "Found 2250 images belonging to 9 classes.\n"
     ]
    }
   ],
   "source": [
    "x_test=test_datagen.flow_from_directory('Dataset/test_set',target_size=(64,64),batch_size=300,class_mode='categorical',color_mode=\"grayscale\")"
   ]
  },
  {
   "cell_type": "code",
   "execution_count": 31,
   "id": "284196a3",
   "metadata": {},
   "outputs": [],
   "source": [
    "from keras.models import Sequential\n",
    "from keras.layers import Dense\n",
    "from keras.layers import Convolution2D\n",
    "from keras.layers import MaxPooling2D\n",
    "from keras.layers import Dropout\n",
    "from keras.layers import Flatten\n"
   ]
  },
  {
   "cell_type": "code",
   "execution_count": 26,
   "id": "80d3b947",
   "metadata": {},
   "outputs": [],
   "source": [
    "model=Sequential()"
   ]
  },
  {
   "cell_type": "code",
   "execution_count": 27,
   "id": "8d2798cf",
   "metadata": {},
   "outputs": [],
   "source": [
    "model.add(Convolution2D(32,(3,3),input_shape=(64,64,1),activation='relu'))"
   ]
  },
  {
   "cell_type": "code",
   "execution_count": 28,
   "id": "db3a82e1",
   "metadata": {},
   "outputs": [],
   "source": [
    "model.add(MaxPooling2D(pool_size=(2,2)))"
   ]
  },
  {
   "cell_type": "code",
   "execution_count": 29,
   "id": "eb10c131",
   "metadata": {},
   "outputs": [],
   "source": [
    "model.add(Flatten())"
   ]
  },
  {
   "cell_type": "code",
   "execution_count": 30,
   "id": "abfd5fa7",
   "metadata": {},
   "outputs": [],
   "source": [
    "model.add(Dense(units=512,activation='relu'))"
   ]
  },
  {
   "cell_type": "code",
   "execution_count": 32,
   "id": "ea1c9925",
   "metadata": {},
   "outputs": [],
   "source": [
    "model.add(Dense(units=9,activation='softmax'))"
   ]
  },
  {
   "cell_type": "code",
   "execution_count": 33,
   "id": "0abaabd5",
   "metadata": {},
   "outputs": [],
   "source": [
    "model.compile(loss='categorical_crossentropy',optimizer='adam',metrics=['accuracy'])"
   ]
  },
  {
   "cell_type": "code",
   "execution_count": 34,
   "id": "3553cfc7",
   "metadata": {},
   "outputs": [
    {
     "name": "stderr",
     "output_type": "stream",
     "text": [
      "C:\\Users\\hp\\AppData\\Local\\Temp\\ipykernel_7284\\3736481484.py:1: UserWarning: `Model.fit_generator` is deprecated and will be removed in a future version. Please use `Model.fit`, which supports generators.\n",
      "  model.fit_generator(x_train,steps_per_epoch=24,epochs=10,validation_data=x_test,validation_steps=40)\n"
     ]
    },
    {
     "name": "stdout",
     "output_type": "stream",
     "text": [
      "Epoch 1/10\n",
      "24/24 [==============================] - ETA: 0s - loss: 0.8844 - accuracy: 0.7103WARNING:tensorflow:Your input ran out of data; interrupting training. Make sure that your dataset or generator can generate at least `steps_per_epoch * epochs` batches (in this case, 40 batches). You may need to use the repeat() function when building your dataset.\n",
      "24/24 [==============================] - 67s 2s/step - loss: 0.8844 - accuracy: 0.7103 - val_loss: 0.3296 - val_accuracy: 0.9164\n",
      "Epoch 2/10\n",
      "24/24 [==============================] - 46s 2s/step - loss: 0.2181 - accuracy: 0.9423\n",
      "Epoch 3/10\n",
      "24/24 [==============================] - 43s 2s/step - loss: 0.1158 - accuracy: 0.9664\n",
      "Epoch 4/10\n",
      "24/24 [==============================] - 37s 2s/step - loss: 0.0742 - accuracy: 0.9813\n",
      "Epoch 5/10\n",
      "24/24 [==============================] - 38s 2s/step - loss: 0.0517 - accuracy: 0.9872\n",
      "Epoch 6/10\n",
      "24/24 [==============================] - 39s 2s/step - loss: 0.0332 - accuracy: 0.9932\n",
      "Epoch 7/10\n",
      "24/24 [==============================] - 38s 2s/step - loss: 0.0238 - accuracy: 0.9943\n",
      "Epoch 8/10\n",
      "24/24 [==============================] - 37s 2s/step - loss: 0.0202 - accuracy: 0.9959\n",
      "Epoch 9/10\n",
      "24/24 [==============================] - 43s 2s/step - loss: 0.0180 - accuracy: 0.9969\n",
      "Epoch 10/10\n",
      "24/24 [==============================] - 40s 2s/step - loss: 0.0121 - accuracy: 0.9970\n"
     ]
    },
    {
     "data": {
      "text/plain": [
       "<keras.callbacks.History at 0xb4c1271220>"
      ]
     },
     "execution_count": 34,
     "metadata": {},
     "output_type": "execute_result"
    }
   ],
   "source": [
    "model.fit_generator(x_train,steps_per_epoch=24,epochs=10,validation_data=x_test,validation_steps=40)"
   ]
  },
  {
   "cell_type": "code",
   "execution_count": 35,
   "id": "385585c9",
   "metadata": {},
   "outputs": [],
   "source": [
    "model.save('aslpng1.h5')"
   ]
  },
  {
   "cell_type": "code",
   "execution_count": 45,
   "id": "df1b1516",
   "metadata": {},
   "outputs": [],
   "source": [
    "from keras.models import load_model\n",
    "from tensorflow.keras.preprocessing import image\n",
    "import numpy as np\n",
    "import cv2"
   ]
  },
  {
   "cell_type": "markdown",
   "id": "62cc21de",
   "metadata": {},
   "source": [
    "model=load_model('aslpng1.h5')"
   ]
  },
  {
   "cell_type": "code",
   "execution_count": 46,
   "id": "09a73568",
   "metadata": {},
   "outputs": [],
   "source": [
    "model=load_model('aslpng1.h5')"
   ]
  },
  {
   "cell_type": "code",
   "execution_count": 47,
   "id": "24c31ee2",
   "metadata": {},
   "outputs": [],
   "source": [
    "from skimage.transform import resize\n",
    "def detect(frame):\n",
    "    img=image.img_to_array(frame)\n",
    "    img=resize(frame,(64,64,1))\n",
    "    img=np.expand_dims(img,axis=0)\n",
    "    pred=np.argmax(model.predict(img))\n",
    "    op=['A','B','C','D','E','F','G','H','I']\n",
    "    print(\"THE PREDICTED LETTER IS \",op[pred])"
   ]
  },
  {
   "cell_type": "code",
   "execution_count": 48,
   "id": "09ef1f40",
   "metadata": {},
   "outputs": [
    {
     "name": "stdout",
     "output_type": "stream",
     "text": [
      "1/1 [==============================] - 3s 3s/step\n",
      "THE PREDICTED LETTER IS  A\n"
     ]
    }
   ],
   "source": [
    "frame=cv2.imread(r\"C:\\Users\\hp\\Desktop\\Dataset\\test_set\\A\\1.png\")\n",
    "data=detect(frame)\n",
    "                 "
   ]
  },
  {
   "cell_type": "code",
   "execution_count": null,
   "id": "18d1a850",
   "metadata": {},
   "outputs": [],
   "source": []
  }
 ],
 "metadata": {
  "kernelspec": {
   "display_name": "Python 3 (ipykernel)",
   "language": "python",
   "name": "python3"
  },
  "language_info": {
   "codemirror_mode": {
    "name": "ipython",
    "version": 3
   },
   "file_extension": ".py",
   "mimetype": "text/x-python",
   "name": "python",
   "nbconvert_exporter": "python",
   "pygments_lexer": "ipython3",
   "version": "3.9.13"
  }
 },
 "nbformat": 4,
 "nbformat_minor": 5
}
